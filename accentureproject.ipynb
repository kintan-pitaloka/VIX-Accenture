{
 "cells": [
  {
   "cell_type": "markdown",
   "id": "c493e27a-ddfe-4fe7-8534-978dc28798d6",
   "metadata": {},
   "source": [
    "<img src='img_notebook/acc.png' width = 300>"
   ]
  },
  {
   "cell_type": "markdown",
   "id": "5da35875-bf5a-418d-9924-dcab8cd27933",
   "metadata": {
    "tags": []
   },
   "source": [
    "### ACCENTURE VIRTUAL INTERNSHIP PROGRAM-TASK 2\n",
    "\n",
    "The brief carefully it states that the client wanted to see  \n",
    "**“An analysis of their content categories showing the top 5 categories with the largest popularity”.**\n",
    "\n",
    "As explained in the data model, popularity is quantified by the “Score” given to each reaction type.\n",
    "We therefore need data showing the content ID, category, content type, reaction type, and reaction score.\n",
    "So, to figure out popularity, we’ll have to add up which content categories have the largest score.\n",
    "\n",
    "#### Clean the data by:\n",
    "- removing rows that have values which are missing,\n",
    "- changing the data type of some values within a column, and\n",
    "- removing columns which are not relevant to this task.\n",
    "\n",
    "*Think about how each column might be relevant to the business question you’re investigating. \n",
    "If you can’t think of why a column may be useful, it may not be worth including it.*\n",
    "\n",
    "1. Create a final data set by merging your three tables together\n",
    "2. Figure out the Top 5 performing categories\n",
    "\n",
    "Add up the total scores for each category.\n",
    "\n",
    "The end result should be one spreadsheet which contains:\n",
    "\n",
    "A cleaned dataset\n",
    "The top 5 categories\n"
   ]
  },
  {
   "cell_type": "markdown",
   "id": "b78c93b9-33b2-4c03-9091-5410a5c7056a",
   "metadata": {
    "tags": []
   },
   "source": [
    "### *DATA PREPARATION*"
   ]
  },
  {
   "cell_type": "code",
   "execution_count": null,
   "id": "9b7c1b88-19ca-43fe-9c3e-1122d18017fb",
   "metadata": {},
   "outputs": [],
   "source": [
    "import pandas as pd\n",
    "import numpy as np\n",
    "import matplotlib.pyplot as plt\n",
    "import seaborn as sns\n",
    "%matplotlib inline\n",
    "\n",
    "import warnings\n",
    "warnings.simplefilter(\"ignore\")"
   ]
  },
  {
   "cell_type": "code",
   "execution_count": null,
   "id": "06e3bc52-4813-4680-a1f9-abda48af854c",
   "metadata": {},
   "outputs": [],
   "source": [
    "df_content= pd.read_csv('csv/content.csv',index_col=[0])\n",
    "df_react = pd.read_csv('csv/reactions.csv',index_col=[0])\n",
    "df_rtype = pd.read_csv('csv/reactions_type.csv',index_col=[0])"
   ]
  },
  {
   "cell_type": "code",
   "execution_count": null,
   "id": "f1892780-11f0-4aee-8582-97d6e5d9309e",
   "metadata": {},
   "outputs": [],
   "source": [
    "df_content.head(3)"
   ]
  },
  {
   "cell_type": "code",
   "execution_count": null,
   "id": "86c16f3a-26a9-49fe-9128-92c3fc457bb7",
   "metadata": {},
   "outputs": [],
   "source": [
    "df_react.head(3)"
   ]
  },
  {
   "cell_type": "code",
   "execution_count": null,
   "id": "222cd7b4-57d2-4d8b-8cdb-66953213dc22",
   "metadata": {},
   "outputs": [],
   "source": [
    "df_rtype.head(3)"
   ]
  },
  {
   "cell_type": "markdown",
   "id": "9b42fc9c-c6a5-4393-a691-ea14b13da0f0",
   "metadata": {},
   "source": [
    "## Detailed about **Reactions Type**"
   ]
  },
  {
   "cell_type": "code",
   "execution_count": null,
   "id": "f07fac1c-3d6a-4bfd-96cf-311233911271",
   "metadata": {},
   "outputs": [],
   "source": [
    "df_rtype.head(3)"
   ]
  },
  {
   "cell_type": "code",
   "execution_count": null,
   "id": "d3ffda68-c03f-4b24-8d38-4657ab9792c5",
   "metadata": {},
   "outputs": [],
   "source": [
    "df_rtype.info()"
   ]
  },
  {
   "cell_type": "code",
   "execution_count": null,
   "id": "6272e28f-f9bb-4696-867b-d099b7d0cf84",
   "metadata": {},
   "outputs": [],
   "source": [
    "df_rtype.shape"
   ]
  },
  {
   "cell_type": "code",
   "execution_count": null,
   "id": "862e538a-be19-4661-9a0d-a84d31288b27",
   "metadata": {},
   "outputs": [],
   "source": [
    "df_rtype.isnull().any()"
   ]
  },
  {
   "cell_type": "code",
   "execution_count": null,
   "id": "d236d6c2-6316-4c74-a7b4-3635c1cc3c9f",
   "metadata": {},
   "outputs": [],
   "source": [
    "df_rtype.duplicated().any()"
   ]
  },
  {
   "cell_type": "code",
   "execution_count": null,
   "id": "4f2000b8-5a66-439b-b4d4-9ce0706a2647",
   "metadata": {},
   "outputs": [],
   "source": [
    "df_rtype.describe(include=[\"object\"])"
   ]
  },
  {
   "cell_type": "code",
   "execution_count": null,
   "id": "7c0a3c6d-51cd-42c0-8675-93139421a242",
   "metadata": {},
   "outputs": [],
   "source": [
    "df_rtype.value_counts()"
   ]
  },
  {
   "cell_type": "code",
   "execution_count": null,
   "id": "598705e5-0f35-4ec0-ab1b-88096378153f",
   "metadata": {},
   "outputs": [],
   "source": [
    "df_rtype['Type'].value_counts()"
   ]
  },
  {
   "cell_type": "code",
   "execution_count": null,
   "id": "e2410b1f-20ff-4467-9993-b8b29ddb3879",
   "metadata": {},
   "outputs": [],
   "source": [
    "sns.catplot(y='Type', kind='count', data=df_rtype, height=2.5, aspect=2.2, palette = 'deep')"
   ]
  },
  {
   "cell_type": "code",
   "execution_count": null,
   "id": "1672ebb3-b0ef-4284-baa7-c0fba598cd81",
   "metadata": {},
   "outputs": [],
   "source": [
    "df_rtype['Score'].value_counts()"
   ]
  },
  {
   "cell_type": "code",
   "execution_count": null,
   "id": "fb48cf74-919c-47fa-bbf6-b7d62ec5e633",
   "metadata": {},
   "outputs": [],
   "source": [
    "sns.distplot(df_rtype['Score'])"
   ]
  },
  {
   "cell_type": "code",
   "execution_count": null,
   "id": "8fa4dbfb-db1f-498e-b8f6-deb99b21e4dc",
   "metadata": {},
   "outputs": [],
   "source": [
    "df_rtype['Sentiment'].value_counts()"
   ]
  },
  {
   "cell_type": "code",
   "execution_count": null,
   "id": "788a091e-58cd-48f7-ac3b-7f06282ca7c8",
   "metadata": {},
   "outputs": [],
   "source": [
    "sns.catplot(y='Sentiment', kind='count', data=df_rtype, height=2.5, aspect=2.2, palette = 'deep')"
   ]
  },
  {
   "cell_type": "markdown",
   "id": "ee3c9b6f-69c9-4932-9edd-d35b1e3180a7",
   "metadata": {},
   "source": [
    "#### more detail about *sentiment*"
   ]
  },
  {
   "cell_type": "code",
   "execution_count": null,
   "id": "25d59b44-197f-4c89-a89f-6ca4c016a06c",
   "metadata": {},
   "outputs": [],
   "source": [
    "#find the neutral sentiment\n",
    "df_rtype[df_rtype['Sentiment']== \"neutral\"]"
   ]
  },
  {
   "cell_type": "code",
   "execution_count": null,
   "id": "c28910f3-635f-4fb9-80f2-fb557c8cd320",
   "metadata": {},
   "outputs": [],
   "source": [
    "#find the negative sentiment\n",
    "df_rtype[df_rtype['Sentiment']== \"negative\"]"
   ]
  },
  {
   "cell_type": "code",
   "execution_count": null,
   "id": "f31ddd21-e11c-4400-8cc8-cf2fee5212d9",
   "metadata": {},
   "outputs": [],
   "source": [
    "#find the positive sentiment\n",
    "df_rtype[df_rtype['Sentiment']== \"positive\"]"
   ]
  },
  {
   "cell_type": "markdown",
   "id": "eeceecb6-bf57-4001-aff0-84145926ca00",
   "metadata": {},
   "source": [
    "### summary about reactions type\n",
    "- have **3 columns and 16 rows**\n",
    "- have 3 type columns = **type, sentiment, score**\n",
    "- no data duplicates\n",
    "- no data null\n",
    "- have **16** values **type**\n",
    "- have **3** values of **sentiment**\n",
    "- have range from **0-75** of **score**\n",
    "- 9 sentiment **positive**\n",
    "- 2 sentimen **neutral**\n",
    "- 5 sentiment **negative**\n",
    "- the top is type of **heart** and top for sentiment is **positive**"
   ]
  },
  {
   "cell_type": "markdown",
   "id": "30f2f157-21fe-47cf-b75b-5578cab8971b",
   "metadata": {},
   "source": [
    "## Detailed about **CUSTOMER**"
   ]
  },
  {
   "cell_type": "code",
   "execution_count": null,
   "id": "f5eabe1b-8522-47c8-9c0b-d67f2e83b33e",
   "metadata": {},
   "outputs": [],
   "source": [
    "df_content.head(3)"
   ]
  },
  {
   "cell_type": "code",
   "execution_count": null,
   "id": "9d3e8b66-acc7-411c-a749-718e4e6cec2e",
   "metadata": {},
   "outputs": [],
   "source": [
    "df_content.info()"
   ]
  },
  {
   "cell_type": "code",
   "execution_count": null,
   "id": "7373e106-9a8e-4e16-8bb9-6cb0de1302db",
   "metadata": {},
   "outputs": [],
   "source": [
    "df_content.shape"
   ]
  },
  {
   "cell_type": "code",
   "execution_count": null,
   "id": "524a49ea-29fc-4ebb-bb6b-2198dfc88b7c",
   "metadata": {},
   "outputs": [],
   "source": [
    "df_content.columns"
   ]
  },
  {
   "cell_type": "code",
   "execution_count": null,
   "id": "6d42a3bd-03fc-43fb-966e-a03d3886e7b3",
   "metadata": {},
   "outputs": [],
   "source": [
    "df_content.describe(include=[\"object\"])"
   ]
  },
  {
   "cell_type": "markdown",
   "id": "18e91f8f-d137-43a8-b079-07d8fee1a981",
   "metadata": {},
   "source": [
    "### check the duplicates"
   ]
  },
  {
   "cell_type": "code",
   "execution_count": null,
   "id": "f3b2e84b-d1e2-4cf2-a0f2-16548400b857",
   "metadata": {},
   "outputs": [],
   "source": [
    "df_content.duplicated().any()"
   ]
  },
  {
   "cell_type": "code",
   "execution_count": null,
   "id": "053a1d48-bceb-42b7-b4e1-cd0ac1d4cde6",
   "metadata": {},
   "outputs": [],
   "source": [
    "df_content['User ID'].duplicated().any()"
   ]
  },
  {
   "cell_type": "code",
   "execution_count": null,
   "id": "ce3ee60a-0958-40ba-bf50-b3fedb787f3d",
   "metadata": {},
   "outputs": [],
   "source": [
    "df_content['Content ID'].duplicated().any()"
   ]
  },
  {
   "cell_type": "code",
   "execution_count": null,
   "id": "e6c5a5f9-e81c-4da3-acd8-2a06101d30f7",
   "metadata": {},
   "outputs": [],
   "source": [
    "df_content['URL'].duplicated().any()"
   ]
  },
  {
   "cell_type": "code",
   "execution_count": null,
   "id": "53ffb827-8499-4a38-ae06-8a04bfeed336",
   "metadata": {},
   "outputs": [],
   "source": [
    "df_content.isnull().any()"
   ]
  },
  {
   "cell_type": "code",
   "execution_count": null,
   "id": "5e5e9b5c-aac5-46f3-b530-3284048f05d2",
   "metadata": {},
   "outputs": [],
   "source": [
    "df_content['Content ID'].isnull().any()"
   ]
  },
  {
   "cell_type": "code",
   "execution_count": null,
   "id": "2a21fdc2-b5f3-4dc0-898f-6379b84d5279",
   "metadata": {},
   "outputs": [],
   "source": [
    "df_content['User ID'].value_counts()"
   ]
  },
  {
   "cell_type": "markdown",
   "id": "7358ebfe-bbe1-4c2e-9667-61b802092ff8",
   "metadata": {},
   "source": [
    "### drop column user ID and content ID"
   ]
  },
  {
   "cell_type": "code",
   "execution_count": null,
   "id": "f274f26a-125d-4ea5-a761-ad7af846781b",
   "metadata": {},
   "outputs": [],
   "source": [
    "df_cn = df_content.drop(columns=['User ID', 'Content ID', 'URL'], inplace=False)"
   ]
  },
  {
   "cell_type": "code",
   "execution_count": null,
   "id": "b6a3eac2-4e6e-4a5d-9dc5-182e3e100e4f",
   "metadata": {},
   "outputs": [],
   "source": [
    "df_cn.head()"
   ]
  },
  {
   "cell_type": "markdown",
   "id": "876a331f-86e5-4189-a76f-f990407ef978",
   "metadata": {},
   "source": [
    "**detailed column type**"
   ]
  },
  {
   "cell_type": "code",
   "execution_count": null,
   "id": "6487066b-227c-4980-9ef6-1137dbd0be79",
   "metadata": {},
   "outputs": [],
   "source": [
    "df_cn['Type'].value_counts()"
   ]
  },
  {
   "cell_type": "code",
   "execution_count": null,
   "id": "766d17f7-7c68-4bec-8514-462c1e5c2f89",
   "metadata": {},
   "outputs": [],
   "source": [
    "sns.catplot(y='Type', kind='count', data=df_cn, height=2.5, aspect=2.2, palette = 'deep')"
   ]
  },
  {
   "cell_type": "markdown",
   "id": "8b73959b-db65-4f44-8027-237ab01df2df",
   "metadata": {},
   "source": [
    "**detailed column category**"
   ]
  },
  {
   "cell_type": "code",
   "execution_count": null,
   "id": "23f53bfe-3bba-4c06-90bb-b5734136a0da",
   "metadata": {},
   "outputs": [],
   "source": [
    "df_cn['Category'].value_counts()"
   ]
  },
  {
   "cell_type": "code",
   "execution_count": null,
   "id": "417b86eb-2b97-4ea0-8e9f-6bd482e62931",
   "metadata": {},
   "outputs": [],
   "source": [
    "df_cn['Category'].unique()"
   ]
  },
  {
   "cell_type": "code",
   "execution_count": null,
   "id": "0fb5324a-f8e7-4c5f-90d6-7d3e2cee3338",
   "metadata": {},
   "outputs": [],
   "source": [
    "sns.catplot(y='Category', kind='count', data=df_cn, height=9.0, aspect=2.2, palette = 'deep')"
   ]
  },
  {
   "cell_type": "markdown",
   "id": "502f3f82-337e-40ce-a035-25a7291bdf47",
   "metadata": {},
   "source": [
    "as we can see, stiil many of category data with duplicate names."
   ]
  },
  {
   "cell_type": "code",
   "execution_count": null,
   "id": "eafa246f-f41d-4b67-ba61-64eaa89de38b",
   "metadata": {},
   "outputs": [],
   "source": [
    "df_cn['Category'] = df_cn['Category'].str.replace(\"'\", \"\").str.replace('\"', '')"
   ]
  },
  {
   "cell_type": "code",
   "execution_count": null,
   "id": "5c6227cc-6591-4ba7-b813-9454c038039e",
   "metadata": {},
   "outputs": [],
   "source": [
    "df_cn['Category'].unique()"
   ]
  },
  {
   "cell_type": "code",
   "execution_count": null,
   "id": "073ebcb9-1798-40ad-a08f-d4b1935fca5b",
   "metadata": {},
   "outputs": [],
   "source": [
    "#mengecilkan semua huruf\n",
    "df_cn['Category'] = df_cn['Category'].str.lower()"
   ]
  },
  {
   "cell_type": "code",
   "execution_count": null,
   "id": "fc8c2ff5-ccb2-4185-a1f3-2042d6429748",
   "metadata": {},
   "outputs": [],
   "source": [
    "df_cn['Category'].unique()"
   ]
  },
  {
   "cell_type": "code",
   "execution_count": null,
   "id": "594a4fb8-957e-44d4-aaf3-8606def37494",
   "metadata": {},
   "outputs": [],
   "source": [
    "df_cn['Category'].value_counts()"
   ]
  },
  {
   "cell_type": "code",
   "execution_count": null,
   "id": "5a2bb6ea-8599-4094-8642-795dc096e232",
   "metadata": {},
   "outputs": [],
   "source": [
    "sns.catplot(y='Category', kind='count', data=df_cn, height=9.0, aspect=2.2, palette = 'deep')"
   ]
  },
  {
   "cell_type": "markdown",
   "id": "827fbc27-d2be-4136-a947-ed36d4de0e1d",
   "metadata": {},
   "source": [
    "### summary about content\n",
    "- have **5 columns and 1000 rows**\n",
    "- have 3 type columns = **content_id, user_id, type, category, url**\n",
    "- ther is data duplicated at = **user_id, type, categoy and url**\n",
    "- there is data null at columns **url**\n",
    "- *my approach* = **delete column user id, content id and URL**\n",
    "- *top type content* =  **photo and video**\n",
    "- *top type category* = **technology, animals, travel**\n",
    "- *feature engineering* = **remove the quotation marks, replace all letters with lowercase letters**\n",
    "- *result for category* = at first the column is **41** and for rn **after feature engineering** the columns is **16**"
   ]
  },
  {
   "cell_type": "markdown",
   "id": "a9076a60-dc10-4416-9309-eb45f5213875",
   "metadata": {
    "tags": []
   },
   "source": [
    "## Detailed about **Reactions**"
   ]
  },
  {
   "cell_type": "code",
   "execution_count": null,
   "id": "cab7125d-a719-4484-ae2f-1b24930c505e",
   "metadata": {},
   "outputs": [],
   "source": [
    "df_react.head()"
   ]
  },
  {
   "cell_type": "code",
   "execution_count": null,
   "id": "f225e8ca-7691-4d09-8662-73a21e1d7fce",
   "metadata": {},
   "outputs": [],
   "source": [
    "df_react.info()"
   ]
  },
  {
   "cell_type": "code",
   "execution_count": null,
   "id": "a402e142-6a08-4933-8ef1-1d5b4c70211f",
   "metadata": {},
   "outputs": [],
   "source": [
    "df_react.shape"
   ]
  },
  {
   "cell_type": "code",
   "execution_count": null,
   "id": "e4c8aa2b-32d0-4e1f-b036-5ed972ff23a6",
   "metadata": {},
   "outputs": [],
   "source": [
    "#drop user_id and content_id\n",
    "df_react = df_react.drop(columns=['User ID', 'Content ID'], inplace=False)"
   ]
  },
  {
   "cell_type": "code",
   "execution_count": null,
   "id": "61655de2-68b4-4f90-aad7-498677597804",
   "metadata": {},
   "outputs": [],
   "source": [
    "df_react.head()"
   ]
  },
  {
   "cell_type": "code",
   "execution_count": null,
   "id": "d3ccf35f-6517-4723-ad8b-4d694a7cb7e2",
   "metadata": {},
   "outputs": [],
   "source": [
    "df_react['Type'].unique()"
   ]
  },
  {
   "cell_type": "code",
   "execution_count": null,
   "id": "5df07778-11e1-477d-b998-c8acf27dd4da",
   "metadata": {},
   "outputs": [],
   "source": [
    "df_react['Type'].isnull().any()"
   ]
  },
  {
   "cell_type": "code",
   "execution_count": null,
   "id": "feb6787e-3254-4f08-bde9-5c6abfb19f0e",
   "metadata": {},
   "outputs": [],
   "source": []
  },
  {
   "cell_type": "code",
   "execution_count": null,
   "id": "7d0e8a89-6eba-47c1-9ead-df3c9f3e70f7",
   "metadata": {},
   "outputs": [],
   "source": []
  },
  {
   "cell_type": "code",
   "execution_count": null,
   "id": "af308143-282a-4054-bdb7-0dd7d57f6932",
   "metadata": {},
   "outputs": [],
   "source": []
  },
  {
   "cell_type": "code",
   "execution_count": null,
   "id": "111cd35e-6535-480b-8eb9-7e32a042bd36",
   "metadata": {},
   "outputs": [],
   "source": []
  },
  {
   "cell_type": "code",
   "execution_count": null,
   "id": "a0a613d0-0ca3-4b38-ba5a-7eac6681c790",
   "metadata": {},
   "outputs": [],
   "source": []
  },
  {
   "cell_type": "code",
   "execution_count": null,
   "id": "e42624ec-e2a7-486b-98af-3a4faab56a25",
   "metadata": {},
   "outputs": [],
   "source": []
  },
  {
   "cell_type": "code",
   "execution_count": null,
   "id": "75f5e09d-00b9-4eee-a7a4-7912fb87e105",
   "metadata": {},
   "outputs": [],
   "source": []
  }
 ],
 "metadata": {
  "kernelspec": {
   "display_name": "Python 3 (ipykernel)",
   "language": "python",
   "name": "python3"
  },
  "language_info": {
   "codemirror_mode": {
    "name": "ipython",
    "version": 3
   },
   "file_extension": ".py",
   "mimetype": "text/x-python",
   "name": "python",
   "nbconvert_exporter": "python",
   "pygments_lexer": "ipython3",
   "version": "3.9.13"
  }
 },
 "nbformat": 4,
 "nbformat_minor": 5
}
